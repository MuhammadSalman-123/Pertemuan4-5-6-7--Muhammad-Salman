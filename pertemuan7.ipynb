{
 "cells": [
  {
   "cell_type": "code",
   "execution_count": 15,
   "id": "3baa3655",
   "metadata": {},
   "outputs": [
    {
     "name": "stdout",
     "output_type": "stream",
     "text": [
      "(6, 5) (2, 5) (2, 5)\n"
     ]
    }
   ],
   "source": [
    "import pandas as pd\n",
    "from sklearn.model_selection import train_test_split\n",
    "from sklearn.preprocessing import StandardScaler\n",
    "\n",
    "df = pd.read_csv(\"processed_kelulusan.csv\")\n",
    "X = df.drop(\"Lulus\", axis=1)\n",
    "y = df[\"Lulus\"]\n",
    "\n",
    "sc = StandardScaler()\n",
    "Xs = sc.fit_transform(X)\n",
    "\n",
    "X_train, X_temp, y_train, y_temp = train_test_split(\n",
    "    Xs, y, test_size=0.4, stratify=y, random_state=42)\n",
    "X_val, X_test, y_val, y_test = train_test_split(\n",
    "    X_temp, y_temp, test_size=0.5, stratify=y_temp, random_state=42)\n",
    "\n",
    "print(X_train.shape, X_val.shape, X_test.shape)"
   ]
  },
  {
   "cell_type": "code",
   "execution_count": 16,
   "id": "a8a83cbd",
   "metadata": {},
   "outputs": [
    {
     "data": {
      "text/html": [
       "<pre style=\"white-space:pre;overflow-x:auto;line-height:normal;font-family:Menlo,'DejaVu Sans Mono',consolas,'Courier New',monospace\"><span style=\"font-weight: bold\">Model: \"sequential\"</span>\n",
       "</pre>\n"
      ],
      "text/plain": [
       "\u001b[1mModel: \"sequential\"\u001b[0m\n"
      ]
     },
     "metadata": {},
     "output_type": "display_data"
    },
    {
     "data": {
      "text/html": [
       "<pre style=\"white-space:pre;overflow-x:auto;line-height:normal;font-family:Menlo,'DejaVu Sans Mono',consolas,'Courier New',monospace\">┏━━━━━━━━━━━━━━━━━━━━━━━━━━━━━━━━━┳━━━━━━━━━━━━━━━━━━━━━━━━┳━━━━━━━━━━━━━━━┓\n",
       "┃<span style=\"font-weight: bold\"> Layer (type)                    </span>┃<span style=\"font-weight: bold\"> Output Shape           </span>┃<span style=\"font-weight: bold\">       Param # </span>┃\n",
       "┡━━━━━━━━━━━━━━━━━━━━━━━━━━━━━━━━━╇━━━━━━━━━━━━━━━━━━━━━━━━╇━━━━━━━━━━━━━━━┩\n",
       "│ dense (<span style=\"color: #0087ff; text-decoration-color: #0087ff\">Dense</span>)                   │ (<span style=\"color: #00d7ff; text-decoration-color: #00d7ff\">None</span>, <span style=\"color: #00af00; text-decoration-color: #00af00\">32</span>)             │           <span style=\"color: #00af00; text-decoration-color: #00af00\">192</span> │\n",
       "├─────────────────────────────────┼────────────────────────┼───────────────┤\n",
       "│ dropout (<span style=\"color: #0087ff; text-decoration-color: #0087ff\">Dropout</span>)               │ (<span style=\"color: #00d7ff; text-decoration-color: #00d7ff\">None</span>, <span style=\"color: #00af00; text-decoration-color: #00af00\">32</span>)             │             <span style=\"color: #00af00; text-decoration-color: #00af00\">0</span> │\n",
       "├─────────────────────────────────┼────────────────────────┼───────────────┤\n",
       "│ dense_1 (<span style=\"color: #0087ff; text-decoration-color: #0087ff\">Dense</span>)                 │ (<span style=\"color: #00d7ff; text-decoration-color: #00d7ff\">None</span>, <span style=\"color: #00af00; text-decoration-color: #00af00\">16</span>)             │           <span style=\"color: #00af00; text-decoration-color: #00af00\">528</span> │\n",
       "├─────────────────────────────────┼────────────────────────┼───────────────┤\n",
       "│ dense_2 (<span style=\"color: #0087ff; text-decoration-color: #0087ff\">Dense</span>)                 │ (<span style=\"color: #00d7ff; text-decoration-color: #00d7ff\">None</span>, <span style=\"color: #00af00; text-decoration-color: #00af00\">1</span>)              │            <span style=\"color: #00af00; text-decoration-color: #00af00\">17</span> │\n",
       "└─────────────────────────────────┴────────────────────────┴───────────────┘\n",
       "</pre>\n"
      ],
      "text/plain": [
       "┏━━━━━━━━━━━━━━━━━━━━━━━━━━━━━━━━━┳━━━━━━━━━━━━━━━━━━━━━━━━┳━━━━━━━━━━━━━━━┓\n",
       "┃\u001b[1m \u001b[0m\u001b[1mLayer (type)                   \u001b[0m\u001b[1m \u001b[0m┃\u001b[1m \u001b[0m\u001b[1mOutput Shape          \u001b[0m\u001b[1m \u001b[0m┃\u001b[1m \u001b[0m\u001b[1m      Param #\u001b[0m\u001b[1m \u001b[0m┃\n",
       "┡━━━━━━━━━━━━━━━━━━━━━━━━━━━━━━━━━╇━━━━━━━━━━━━━━━━━━━━━━━━╇━━━━━━━━━━━━━━━┩\n",
       "│ dense (\u001b[38;5;33mDense\u001b[0m)                   │ (\u001b[38;5;45mNone\u001b[0m, \u001b[38;5;34m32\u001b[0m)             │           \u001b[38;5;34m192\u001b[0m │\n",
       "├─────────────────────────────────┼────────────────────────┼───────────────┤\n",
       "│ dropout (\u001b[38;5;33mDropout\u001b[0m)               │ (\u001b[38;5;45mNone\u001b[0m, \u001b[38;5;34m32\u001b[0m)             │             \u001b[38;5;34m0\u001b[0m │\n",
       "├─────────────────────────────────┼────────────────────────┼───────────────┤\n",
       "│ dense_1 (\u001b[38;5;33mDense\u001b[0m)                 │ (\u001b[38;5;45mNone\u001b[0m, \u001b[38;5;34m16\u001b[0m)             │           \u001b[38;5;34m528\u001b[0m │\n",
       "├─────────────────────────────────┼────────────────────────┼───────────────┤\n",
       "│ dense_2 (\u001b[38;5;33mDense\u001b[0m)                 │ (\u001b[38;5;45mNone\u001b[0m, \u001b[38;5;34m1\u001b[0m)              │            \u001b[38;5;34m17\u001b[0m │\n",
       "└─────────────────────────────────┴────────────────────────┴───────────────┘\n"
      ]
     },
     "metadata": {},
     "output_type": "display_data"
    },
    {
     "data": {
      "text/html": [
       "<pre style=\"white-space:pre;overflow-x:auto;line-height:normal;font-family:Menlo,'DejaVu Sans Mono',consolas,'Courier New',monospace\"><span style=\"font-weight: bold\"> Total params: </span><span style=\"color: #00af00; text-decoration-color: #00af00\">737</span> (2.88 KB)\n",
       "</pre>\n"
      ],
      "text/plain": [
       "\u001b[1m Total params: \u001b[0m\u001b[38;5;34m737\u001b[0m (2.88 KB)\n"
      ]
     },
     "metadata": {},
     "output_type": "display_data"
    },
    {
     "data": {
      "text/html": [
       "<pre style=\"white-space:pre;overflow-x:auto;line-height:normal;font-family:Menlo,'DejaVu Sans Mono',consolas,'Courier New',monospace\"><span style=\"font-weight: bold\"> Trainable params: </span><span style=\"color: #00af00; text-decoration-color: #00af00\">737</span> (2.88 KB)\n",
       "</pre>\n"
      ],
      "text/plain": [
       "\u001b[1m Trainable params: \u001b[0m\u001b[38;5;34m737\u001b[0m (2.88 KB)\n"
      ]
     },
     "metadata": {},
     "output_type": "display_data"
    },
    {
     "data": {
      "text/html": [
       "<pre style=\"white-space:pre;overflow-x:auto;line-height:normal;font-family:Menlo,'DejaVu Sans Mono',consolas,'Courier New',monospace\"><span style=\"font-weight: bold\"> Non-trainable params: </span><span style=\"color: #00af00; text-decoration-color: #00af00\">0</span> (0.00 B)\n",
       "</pre>\n"
      ],
      "text/plain": [
       "\u001b[1m Non-trainable params: \u001b[0m\u001b[38;5;34m0\u001b[0m (0.00 B)\n"
      ]
     },
     "metadata": {},
     "output_type": "display_data"
    }
   ],
   "source": [
    "import tensorflow as tf\n",
    "from tensorflow import keras\n",
    "from tensorflow.keras import layers\n",
    "\n",
    "model = keras.Sequential([\n",
    "    layers.Input(shape=(X_train.shape[1],)),\n",
    "    layers.Dense(32, activation=\"relu\"),\n",
    "    layers.Dropout(0.3),\n",
    "    layers.Dense(16, activation=\"relu\"),\n",
    "    layers.Dense(1, activation=\"sigmoid\")  # klasifikasi biner\n",
    "])\n",
    "\n",
    "model.compile(optimizer=keras.optimizers.Adam(1e-3),\n",
    "              loss=\"binary_crossentropy\",\n",
    "              metrics=[\"accuracy\",\"AUC\"])\n",
    "model.summary()"
   ]
  },
  {
   "cell_type": "code",
   "execution_count": 17,
   "id": "cf95f05c",
   "metadata": {},
   "outputs": [
    {
     "name": "stdout",
     "output_type": "stream",
     "text": [
      "Epoch 1/100\n",
      "\u001b[1m1/1\u001b[0m \u001b[32m━━━━━━━━━━━━━━━━━━━━\u001b[0m\u001b[37m\u001b[0m \u001b[1m4s\u001b[0m 4s/step - AUC: 0.6667 - accuracy: 0.6667 - loss: 0.6543 - val_AUC: 1.0000 - val_accuracy: 1.0000 - val_loss: 0.5578\n",
      "Epoch 2/100\n",
      "\u001b[1m1/1\u001b[0m \u001b[32m━━━━━━━━━━━━━━━━━━━━\u001b[0m\u001b[37m\u001b[0m \u001b[1m0s\u001b[0m 164ms/step - AUC: 1.0000 - accuracy: 0.5000 - loss: 0.6333 - val_AUC: 1.0000 - val_accuracy: 1.0000 - val_loss: 0.5458\n",
      "Epoch 3/100\n",
      "\u001b[1m1/1\u001b[0m \u001b[32m━━━━━━━━━━━━━━━━━━━━\u001b[0m\u001b[37m\u001b[0m \u001b[1m0s\u001b[0m 154ms/step - AUC: 1.0000 - accuracy: 1.0000 - loss: 0.5298 - val_AUC: 1.0000 - val_accuracy: 1.0000 - val_loss: 0.5356\n",
      "Epoch 4/100\n",
      "\u001b[1m1/1\u001b[0m \u001b[32m━━━━━━━━━━━━━━━━━━━━\u001b[0m\u001b[37m\u001b[0m \u001b[1m0s\u001b[0m 161ms/step - AUC: 0.7778 - accuracy: 0.8333 - loss: 0.6532 - val_AUC: 1.0000 - val_accuracy: 1.0000 - val_loss: 0.5269\n",
      "Epoch 5/100\n",
      "\u001b[1m1/1\u001b[0m \u001b[32m━━━━━━━━━━━━━━━━━━━━\u001b[0m\u001b[37m\u001b[0m \u001b[1m0s\u001b[0m 162ms/step - AUC: 1.0000 - accuracy: 0.8333 - loss: 0.5576 - val_AUC: 1.0000 - val_accuracy: 1.0000 - val_loss: 0.5190\n",
      "Epoch 6/100\n",
      "\u001b[1m1/1\u001b[0m \u001b[32m━━━━━━━━━━━━━━━━━━━━\u001b[0m\u001b[37m\u001b[0m \u001b[1m0s\u001b[0m 159ms/step - AUC: 1.0000 - accuracy: 0.8333 - loss: 0.6215 - val_AUC: 1.0000 - val_accuracy: 1.0000 - val_loss: 0.5111\n",
      "Epoch 7/100\n",
      "\u001b[1m1/1\u001b[0m \u001b[32m━━━━━━━━━━━━━━━━━━━━\u001b[0m\u001b[37m\u001b[0m \u001b[1m0s\u001b[0m 169ms/step - AUC: 1.0000 - accuracy: 1.0000 - loss: 0.5416 - val_AUC: 1.0000 - val_accuracy: 1.0000 - val_loss: 0.5030\n",
      "Epoch 8/100\n",
      "\u001b[1m1/1\u001b[0m \u001b[32m━━━━━━━━━━━━━━━━━━━━\u001b[0m\u001b[37m\u001b[0m \u001b[1m0s\u001b[0m 320ms/step - AUC: 1.0000 - accuracy: 1.0000 - loss: 0.5292 - val_AUC: 1.0000 - val_accuracy: 1.0000 - val_loss: 0.4946\n",
      "Epoch 9/100\n",
      "\u001b[1m1/1\u001b[0m \u001b[32m━━━━━━━━━━━━━━━━━━━━\u001b[0m\u001b[37m\u001b[0m \u001b[1m0s\u001b[0m 247ms/step - AUC: 1.0000 - accuracy: 0.8333 - loss: 0.5522 - val_AUC: 1.0000 - val_accuracy: 1.0000 - val_loss: 0.4864\n",
      "Epoch 10/100\n",
      "\u001b[1m1/1\u001b[0m \u001b[32m━━━━━━━━━━━━━━━━━━━━\u001b[0m\u001b[37m\u001b[0m \u001b[1m0s\u001b[0m 295ms/step - AUC: 1.0000 - accuracy: 1.0000 - loss: 0.5365 - val_AUC: 1.0000 - val_accuracy: 1.0000 - val_loss: 0.4783\n",
      "Epoch 11/100\n",
      "\u001b[1m1/1\u001b[0m \u001b[32m━━━━━━━━━━━━━━━━━━━━\u001b[0m\u001b[37m\u001b[0m \u001b[1m0s\u001b[0m 193ms/step - AUC: 1.0000 - accuracy: 1.0000 - loss: 0.5569 - val_AUC: 1.0000 - val_accuracy: 1.0000 - val_loss: 0.4706\n",
      "Epoch 12/100\n",
      "\u001b[1m1/1\u001b[0m \u001b[32m━━━━━━━━━━━━━━━━━━━━\u001b[0m\u001b[37m\u001b[0m \u001b[1m0s\u001b[0m 257ms/step - AUC: 1.0000 - accuracy: 1.0000 - loss: 0.4675 - val_AUC: 1.0000 - val_accuracy: 1.0000 - val_loss: 0.4628\n",
      "Epoch 13/100\n",
      "\u001b[1m1/1\u001b[0m \u001b[32m━━━━━━━━━━━━━━━━━━━━\u001b[0m\u001b[37m\u001b[0m \u001b[1m0s\u001b[0m 182ms/step - AUC: 1.0000 - accuracy: 1.0000 - loss: 0.4819 - val_AUC: 1.0000 - val_accuracy: 1.0000 - val_loss: 0.4550\n",
      "Epoch 14/100\n",
      "\u001b[1m1/1\u001b[0m \u001b[32m━━━━━━━━━━━━━━━━━━━━\u001b[0m\u001b[37m\u001b[0m \u001b[1m0s\u001b[0m 169ms/step - AUC: 1.0000 - accuracy: 0.8333 - loss: 0.5475 - val_AUC: 1.0000 - val_accuracy: 1.0000 - val_loss: 0.4472\n",
      "Epoch 15/100\n",
      "\u001b[1m1/1\u001b[0m \u001b[32m━━━━━━━━━━━━━━━━━━━━\u001b[0m\u001b[37m\u001b[0m \u001b[1m0s\u001b[0m 300ms/step - AUC: 1.0000 - accuracy: 1.0000 - loss: 0.4690 - val_AUC: 1.0000 - val_accuracy: 1.0000 - val_loss: 0.4393\n",
      "Epoch 16/100\n",
      "\u001b[1m1/1\u001b[0m \u001b[32m━━━━━━━━━━━━━━━━━━━━\u001b[0m\u001b[37m\u001b[0m \u001b[1m0s\u001b[0m 172ms/step - AUC: 1.0000 - accuracy: 1.0000 - loss: 0.4436 - val_AUC: 1.0000 - val_accuracy: 1.0000 - val_loss: 0.4314\n",
      "Epoch 17/100\n",
      "\u001b[1m1/1\u001b[0m \u001b[32m━━━━━━━━━━━━━━━━━━━━\u001b[0m\u001b[37m\u001b[0m \u001b[1m0s\u001b[0m 158ms/step - AUC: 1.0000 - accuracy: 1.0000 - loss: 0.5772 - val_AUC: 1.0000 - val_accuracy: 1.0000 - val_loss: 0.4236\n",
      "Epoch 18/100\n",
      "\u001b[1m1/1\u001b[0m \u001b[32m━━━━━━━━━━━━━━━━━━━━\u001b[0m\u001b[37m\u001b[0m \u001b[1m0s\u001b[0m 162ms/step - AUC: 1.0000 - accuracy: 1.0000 - loss: 0.4696 - val_AUC: 1.0000 - val_accuracy: 1.0000 - val_loss: 0.4158\n",
      "Epoch 19/100\n",
      "\u001b[1m1/1\u001b[0m \u001b[32m━━━━━━━━━━━━━━━━━━━━\u001b[0m\u001b[37m\u001b[0m \u001b[1m0s\u001b[0m 320ms/step - AUC: 1.0000 - accuracy: 1.0000 - loss: 0.4729 - val_AUC: 1.0000 - val_accuracy: 1.0000 - val_loss: 0.4078\n",
      "Epoch 20/100\n",
      "\u001b[1m1/1\u001b[0m \u001b[32m━━━━━━━━━━━━━━━━━━━━\u001b[0m\u001b[37m\u001b[0m \u001b[1m0s\u001b[0m 206ms/step - AUC: 1.0000 - accuracy: 1.0000 - loss: 0.4434 - val_AUC: 1.0000 - val_accuracy: 1.0000 - val_loss: 0.3999\n",
      "Epoch 21/100\n",
      "\u001b[1m1/1\u001b[0m \u001b[32m━━━━━━━━━━━━━━━━━━━━\u001b[0m\u001b[37m\u001b[0m \u001b[1m0s\u001b[0m 183ms/step - AUC: 1.0000 - accuracy: 1.0000 - loss: 0.4358 - val_AUC: 1.0000 - val_accuracy: 1.0000 - val_loss: 0.3920\n",
      "Epoch 22/100\n",
      "\u001b[1m1/1\u001b[0m \u001b[32m━━━━━━━━━━━━━━━━━━━━\u001b[0m\u001b[37m\u001b[0m \u001b[1m0s\u001b[0m 171ms/step - AUC: 1.0000 - accuracy: 1.0000 - loss: 0.3984 - val_AUC: 1.0000 - val_accuracy: 1.0000 - val_loss: 0.3840\n",
      "Epoch 23/100\n",
      "\u001b[1m1/1\u001b[0m \u001b[32m━━━━━━━━━━━━━━━━━━━━\u001b[0m\u001b[37m\u001b[0m \u001b[1m0s\u001b[0m 155ms/step - AUC: 1.0000 - accuracy: 1.0000 - loss: 0.4087 - val_AUC: 1.0000 - val_accuracy: 1.0000 - val_loss: 0.3760\n",
      "Epoch 24/100\n",
      "\u001b[1m1/1\u001b[0m \u001b[32m━━━━━━━━━━━━━━━━━━━━\u001b[0m\u001b[37m\u001b[0m \u001b[1m0s\u001b[0m 169ms/step - AUC: 1.0000 - accuracy: 1.0000 - loss: 0.4592 - val_AUC: 1.0000 - val_accuracy: 1.0000 - val_loss: 0.3682\n",
      "Epoch 25/100\n",
      "\u001b[1m1/1\u001b[0m \u001b[32m━━━━━━━━━━━━━━━━━━━━\u001b[0m\u001b[37m\u001b[0m \u001b[1m0s\u001b[0m 160ms/step - AUC: 1.0000 - accuracy: 1.0000 - loss: 0.4363 - val_AUC: 1.0000 - val_accuracy: 1.0000 - val_loss: 0.3604\n",
      "Epoch 26/100\n",
      "\u001b[1m1/1\u001b[0m \u001b[32m━━━━━━━━━━━━━━━━━━━━\u001b[0m\u001b[37m\u001b[0m \u001b[1m0s\u001b[0m 157ms/step - AUC: 1.0000 - accuracy: 1.0000 - loss: 0.4103 - val_AUC: 1.0000 - val_accuracy: 1.0000 - val_loss: 0.3526\n",
      "Epoch 27/100\n",
      "\u001b[1m1/1\u001b[0m \u001b[32m━━━━━━━━━━━━━━━━━━━━\u001b[0m\u001b[37m\u001b[0m \u001b[1m0s\u001b[0m 160ms/step - AUC: 1.0000 - accuracy: 1.0000 - loss: 0.4208 - val_AUC: 1.0000 - val_accuracy: 1.0000 - val_loss: 0.3448\n",
      "Epoch 28/100\n",
      "\u001b[1m1/1\u001b[0m \u001b[32m━━━━━━━━━━━━━━━━━━━━\u001b[0m\u001b[37m\u001b[0m \u001b[1m0s\u001b[0m 216ms/step - AUC: 1.0000 - accuracy: 1.0000 - loss: 0.4479 - val_AUC: 1.0000 - val_accuracy: 1.0000 - val_loss: 0.3372\n",
      "Epoch 29/100\n",
      "\u001b[1m1/1\u001b[0m \u001b[32m━━━━━━━━━━━━━━━━━━━━\u001b[0m\u001b[37m\u001b[0m \u001b[1m0s\u001b[0m 164ms/step - AUC: 1.0000 - accuracy: 1.0000 - loss: 0.4442 - val_AUC: 1.0000 - val_accuracy: 1.0000 - val_loss: 0.3296\n",
      "Epoch 30/100\n",
      "\u001b[1m1/1\u001b[0m \u001b[32m━━━━━━━━━━━━━━━━━━━━\u001b[0m\u001b[37m\u001b[0m \u001b[1m0s\u001b[0m 327ms/step - AUC: 1.0000 - accuracy: 1.0000 - loss: 0.3766 - val_AUC: 1.0000 - val_accuracy: 1.0000 - val_loss: 0.3221\n",
      "Epoch 31/100\n",
      "\u001b[1m1/1\u001b[0m \u001b[32m━━━━━━━━━━━━━━━━━━━━\u001b[0m\u001b[37m\u001b[0m \u001b[1m0s\u001b[0m 176ms/step - AUC: 1.0000 - accuracy: 1.0000 - loss: 0.3575 - val_AUC: 1.0000 - val_accuracy: 1.0000 - val_loss: 0.3147\n",
      "Epoch 32/100\n",
      "\u001b[1m1/1\u001b[0m \u001b[32m━━━━━━━━━━━━━━━━━━━━\u001b[0m\u001b[37m\u001b[0m \u001b[1m0s\u001b[0m 281ms/step - AUC: 1.0000 - accuracy: 1.0000 - loss: 0.3619 - val_AUC: 1.0000 - val_accuracy: 1.0000 - val_loss: 0.3075\n",
      "Epoch 33/100\n",
      "\u001b[1m1/1\u001b[0m \u001b[32m━━━━━━━━━━━━━━━━━━━━\u001b[0m\u001b[37m\u001b[0m \u001b[1m0s\u001b[0m 216ms/step - AUC: 1.0000 - accuracy: 1.0000 - loss: 0.3877 - val_AUC: 1.0000 - val_accuracy: 1.0000 - val_loss: 0.3004\n",
      "Epoch 34/100\n",
      "\u001b[1m1/1\u001b[0m \u001b[32m━━━━━━━━━━━━━━━━━━━━\u001b[0m\u001b[37m\u001b[0m \u001b[1m0s\u001b[0m 169ms/step - AUC: 1.0000 - accuracy: 1.0000 - loss: 0.3413 - val_AUC: 1.0000 - val_accuracy: 1.0000 - val_loss: 0.2933\n",
      "Epoch 35/100\n",
      "\u001b[1m1/1\u001b[0m \u001b[32m━━━━━━━━━━━━━━━━━━━━\u001b[0m\u001b[37m\u001b[0m \u001b[1m0s\u001b[0m 164ms/step - AUC: 1.0000 - accuracy: 1.0000 - loss: 0.3108 - val_AUC: 1.0000 - val_accuracy: 1.0000 - val_loss: 0.2864\n",
      "Epoch 36/100\n",
      "\u001b[1m1/1\u001b[0m \u001b[32m━━━━━━━━━━━━━━━━━━━━\u001b[0m\u001b[37m\u001b[0m \u001b[1m0s\u001b[0m 147ms/step - AUC: 1.0000 - accuracy: 1.0000 - loss: 0.3253 - val_AUC: 1.0000 - val_accuracy: 1.0000 - val_loss: 0.2796\n",
      "Epoch 37/100\n",
      "\u001b[1m1/1\u001b[0m \u001b[32m━━━━━━━━━━━━━━━━━━━━\u001b[0m\u001b[37m\u001b[0m \u001b[1m0s\u001b[0m 171ms/step - AUC: 1.0000 - accuracy: 1.0000 - loss: 0.3265 - val_AUC: 1.0000 - val_accuracy: 1.0000 - val_loss: 0.2729\n",
      "Epoch 38/100\n",
      "\u001b[1m1/1\u001b[0m \u001b[32m━━━━━━━━━━━━━━━━━━━━\u001b[0m\u001b[37m\u001b[0m \u001b[1m0s\u001b[0m 165ms/step - AUC: 1.0000 - accuracy: 1.0000 - loss: 0.2787 - val_AUC: 1.0000 - val_accuracy: 1.0000 - val_loss: 0.2664\n",
      "Epoch 39/100\n",
      "\u001b[1m1/1\u001b[0m \u001b[32m━━━━━━━━━━━━━━━━━━━━\u001b[0m\u001b[37m\u001b[0m \u001b[1m0s\u001b[0m 160ms/step - AUC: 1.0000 - accuracy: 1.0000 - loss: 0.3650 - val_AUC: 1.0000 - val_accuracy: 1.0000 - val_loss: 0.2600\n",
      "Epoch 40/100\n",
      "\u001b[1m1/1\u001b[0m \u001b[32m━━━━━━━━━━━━━━━━━━━━\u001b[0m\u001b[37m\u001b[0m \u001b[1m0s\u001b[0m 173ms/step - AUC: 1.0000 - accuracy: 1.0000 - loss: 0.2888 - val_AUC: 1.0000 - val_accuracy: 1.0000 - val_loss: 0.2537\n",
      "Epoch 41/100\n",
      "\u001b[1m1/1\u001b[0m \u001b[32m━━━━━━━━━━━━━━━━━━━━\u001b[0m\u001b[37m\u001b[0m \u001b[1m0s\u001b[0m 170ms/step - AUC: 1.0000 - accuracy: 1.0000 - loss: 0.3284 - val_AUC: 1.0000 - val_accuracy: 1.0000 - val_loss: 0.2475\n",
      "Epoch 42/100\n",
      "\u001b[1m1/1\u001b[0m \u001b[32m━━━━━━━━━━━━━━━━━━━━\u001b[0m\u001b[37m\u001b[0m \u001b[1m0s\u001b[0m 345ms/step - AUC: 1.0000 - accuracy: 1.0000 - loss: 0.3367 - val_AUC: 1.0000 - val_accuracy: 1.0000 - val_loss: 0.2414\n",
      "Epoch 43/100\n",
      "\u001b[1m1/1\u001b[0m \u001b[32m━━━━━━━━━━━━━━━━━━━━\u001b[0m\u001b[37m\u001b[0m \u001b[1m0s\u001b[0m 483ms/step - AUC: 1.0000 - accuracy: 1.0000 - loss: 0.2805 - val_AUC: 1.0000 - val_accuracy: 1.0000 - val_loss: 0.2354\n",
      "Epoch 44/100\n",
      "\u001b[1m1/1\u001b[0m \u001b[32m━━━━━━━━━━━━━━━━━━━━\u001b[0m\u001b[37m\u001b[0m \u001b[1m1s\u001b[0m 1s/step - AUC: 1.0000 - accuracy: 1.0000 - loss: 0.3230 - val_AUC: 1.0000 - val_accuracy: 1.0000 - val_loss: 0.2295\n",
      "Epoch 45/100\n",
      "\u001b[1m1/1\u001b[0m \u001b[32m━━━━━━━━━━━━━━━━━━━━\u001b[0m\u001b[37m\u001b[0m \u001b[1m0s\u001b[0m 411ms/step - AUC: 1.0000 - accuracy: 1.0000 - loss: 0.3326 - val_AUC: 1.0000 - val_accuracy: 1.0000 - val_loss: 0.2237\n",
      "Epoch 46/100\n",
      "\u001b[1m1/1\u001b[0m \u001b[32m━━━━━━━━━━━━━━━━━━━━\u001b[0m\u001b[37m\u001b[0m \u001b[1m0s\u001b[0m 146ms/step - AUC: 1.0000 - accuracy: 1.0000 - loss: 0.2981 - val_AUC: 1.0000 - val_accuracy: 1.0000 - val_loss: 0.2180\n",
      "Epoch 47/100\n",
      "\u001b[1m1/1\u001b[0m \u001b[32m━━━━━━━━━━━━━━━━━━━━\u001b[0m\u001b[37m\u001b[0m \u001b[1m0s\u001b[0m 192ms/step - AUC: 1.0000 - accuracy: 1.0000 - loss: 0.3163 - val_AUC: 1.0000 - val_accuracy: 1.0000 - val_loss: 0.2125\n",
      "Epoch 48/100\n",
      "\u001b[1m1/1\u001b[0m \u001b[32m━━━━━━━━━━━━━━━━━━━━\u001b[0m\u001b[37m\u001b[0m \u001b[1m0s\u001b[0m 149ms/step - AUC: 1.0000 - accuracy: 1.0000 - loss: 0.2839 - val_AUC: 1.0000 - val_accuracy: 1.0000 - val_loss: 0.2072\n",
      "Epoch 49/100\n",
      "\u001b[1m1/1\u001b[0m \u001b[32m━━━━━━━━━━━━━━━━━━━━\u001b[0m\u001b[37m\u001b[0m \u001b[1m0s\u001b[0m 170ms/step - AUC: 1.0000 - accuracy: 1.0000 - loss: 0.2518 - val_AUC: 1.0000 - val_accuracy: 1.0000 - val_loss: 0.2019\n",
      "Epoch 50/100\n",
      "\u001b[1m1/1\u001b[0m \u001b[32m━━━━━━━━━━━━━━━━━━━━\u001b[0m\u001b[37m\u001b[0m \u001b[1m0s\u001b[0m 171ms/step - AUC: 1.0000 - accuracy: 1.0000 - loss: 0.2839 - val_AUC: 1.0000 - val_accuracy: 1.0000 - val_loss: 0.1968\n",
      "Epoch 51/100\n",
      "\u001b[1m1/1\u001b[0m \u001b[32m━━━━━━━━━━━━━━━━━━━━\u001b[0m\u001b[37m\u001b[0m \u001b[1m0s\u001b[0m 151ms/step - AUC: 1.0000 - accuracy: 1.0000 - loss: 0.2312 - val_AUC: 1.0000 - val_accuracy: 1.0000 - val_loss: 0.1918\n",
      "Epoch 52/100\n",
      "\u001b[1m1/1\u001b[0m \u001b[32m━━━━━━━━━━━━━━━━━━━━\u001b[0m\u001b[37m\u001b[0m \u001b[1m0s\u001b[0m 199ms/step - AUC: 1.0000 - accuracy: 1.0000 - loss: 0.2689 - val_AUC: 1.0000 - val_accuracy: 1.0000 - val_loss: 0.1871\n",
      "Epoch 53/100\n",
      "\u001b[1m1/1\u001b[0m \u001b[32m━━━━━━━━━━━━━━━━━━━━\u001b[0m\u001b[37m\u001b[0m \u001b[1m0s\u001b[0m 197ms/step - AUC: 1.0000 - accuracy: 1.0000 - loss: 0.2755 - val_AUC: 1.0000 - val_accuracy: 1.0000 - val_loss: 0.1823\n",
      "Epoch 54/100\n",
      "\u001b[1m1/1\u001b[0m \u001b[32m━━━━━━━━━━━━━━━━━━━━\u001b[0m\u001b[37m\u001b[0m \u001b[1m0s\u001b[0m 173ms/step - AUC: 1.0000 - accuracy: 1.0000 - loss: 0.2263 - val_AUC: 1.0000 - val_accuracy: 1.0000 - val_loss: 0.1777\n",
      "Epoch 55/100\n",
      "\u001b[1m1/1\u001b[0m \u001b[32m━━━━━━━━━━━━━━━━━━━━\u001b[0m\u001b[37m\u001b[0m \u001b[1m0s\u001b[0m 317ms/step - AUC: 1.0000 - accuracy: 1.0000 - loss: 0.2883 - val_AUC: 1.0000 - val_accuracy: 1.0000 - val_loss: 0.1730\n",
      "Epoch 56/100\n",
      "\u001b[1m1/1\u001b[0m \u001b[32m━━━━━━━━━━━━━━━━━━━━\u001b[0m\u001b[37m\u001b[0m \u001b[1m0s\u001b[0m 231ms/step - AUC: 1.0000 - accuracy: 1.0000 - loss: 0.2477 - val_AUC: 1.0000 - val_accuracy: 1.0000 - val_loss: 0.1685\n",
      "Epoch 57/100\n",
      "\u001b[1m1/1\u001b[0m \u001b[32m━━━━━━━━━━━━━━━━━━━━\u001b[0m\u001b[37m\u001b[0m \u001b[1m0s\u001b[0m 212ms/step - AUC: 1.0000 - accuracy: 1.0000 - loss: 0.2812 - val_AUC: 1.0000 - val_accuracy: 1.0000 - val_loss: 0.1641\n",
      "Epoch 58/100\n",
      "\u001b[1m1/1\u001b[0m \u001b[32m━━━━━━━━━━━━━━━━━━━━\u001b[0m\u001b[37m\u001b[0m \u001b[1m0s\u001b[0m 161ms/step - AUC: 1.0000 - accuracy: 1.0000 - loss: 0.2390 - val_AUC: 1.0000 - val_accuracy: 1.0000 - val_loss: 0.1598\n",
      "Epoch 59/100\n",
      "\u001b[1m1/1\u001b[0m \u001b[32m━━━━━━━━━━━━━━━━━━━━\u001b[0m\u001b[37m\u001b[0m \u001b[1m0s\u001b[0m 417ms/step - AUC: 1.0000 - accuracy: 1.0000 - loss: 0.1766 - val_AUC: 1.0000 - val_accuracy: 1.0000 - val_loss: 0.1557\n",
      "Epoch 60/100\n",
      "\u001b[1m1/1\u001b[0m \u001b[32m━━━━━━━━━━━━━━━━━━━━\u001b[0m\u001b[37m\u001b[0m \u001b[1m0s\u001b[0m 351ms/step - AUC: 1.0000 - accuracy: 1.0000 - loss: 0.2118 - val_AUC: 1.0000 - val_accuracy: 1.0000 - val_loss: 0.1517\n",
      "Epoch 61/100\n",
      "\u001b[1m1/1\u001b[0m \u001b[32m━━━━━━━━━━━━━━━━━━━━\u001b[0m\u001b[37m\u001b[0m \u001b[1m0s\u001b[0m 204ms/step - AUC: 1.0000 - accuracy: 1.0000 - loss: 0.2119 - val_AUC: 1.0000 - val_accuracy: 1.0000 - val_loss: 0.1479\n",
      "Epoch 62/100\n",
      "\u001b[1m1/1\u001b[0m \u001b[32m━━━━━━━━━━━━━━━━━━━━\u001b[0m\u001b[37m\u001b[0m \u001b[1m0s\u001b[0m 354ms/step - AUC: 1.0000 - accuracy: 1.0000 - loss: 0.2144 - val_AUC: 1.0000 - val_accuracy: 1.0000 - val_loss: 0.1440\n",
      "Epoch 63/100\n",
      "\u001b[1m1/1\u001b[0m \u001b[32m━━━━━━━━━━━━━━━━━━━━\u001b[0m\u001b[37m\u001b[0m \u001b[1m0s\u001b[0m 235ms/step - AUC: 1.0000 - accuracy: 1.0000 - loss: 0.1794 - val_AUC: 1.0000 - val_accuracy: 1.0000 - val_loss: 0.1403\n",
      "Epoch 64/100\n",
      "\u001b[1m1/1\u001b[0m \u001b[32m━━━━━━━━━━━━━━━━━━━━\u001b[0m\u001b[37m\u001b[0m \u001b[1m0s\u001b[0m 224ms/step - AUC: 1.0000 - accuracy: 1.0000 - loss: 0.2183 - val_AUC: 1.0000 - val_accuracy: 1.0000 - val_loss: 0.1367\n",
      "Epoch 65/100\n",
      "\u001b[1m1/1\u001b[0m \u001b[32m━━━━━━━━━━━━━━━━━━━━\u001b[0m\u001b[37m\u001b[0m \u001b[1m0s\u001b[0m 298ms/step - AUC: 1.0000 - accuracy: 1.0000 - loss: 0.2098 - val_AUC: 1.0000 - val_accuracy: 1.0000 - val_loss: 0.1331\n",
      "Epoch 66/100\n",
      "\u001b[1m1/1\u001b[0m \u001b[32m━━━━━━━━━━━━━━━━━━━━\u001b[0m\u001b[37m\u001b[0m \u001b[1m0s\u001b[0m 222ms/step - AUC: 1.0000 - accuracy: 1.0000 - loss: 0.1539 - val_AUC: 1.0000 - val_accuracy: 1.0000 - val_loss: 0.1297\n",
      "Epoch 67/100\n",
      "\u001b[1m1/1\u001b[0m \u001b[32m━━━━━━━━━━━━━━━━━━━━\u001b[0m\u001b[37m\u001b[0m \u001b[1m0s\u001b[0m 181ms/step - AUC: 1.0000 - accuracy: 1.0000 - loss: 0.2266 - val_AUC: 1.0000 - val_accuracy: 1.0000 - val_loss: 0.1264\n",
      "Epoch 68/100\n",
      "\u001b[1m1/1\u001b[0m \u001b[32m━━━━━━━━━━━━━━━━━━━━\u001b[0m\u001b[37m\u001b[0m \u001b[1m0s\u001b[0m 316ms/step - AUC: 1.0000 - accuracy: 1.0000 - loss: 0.2338 - val_AUC: 1.0000 - val_accuracy: 1.0000 - val_loss: 0.1232\n",
      "Epoch 69/100\n",
      "\u001b[1m1/1\u001b[0m \u001b[32m━━━━━━━━━━━━━━━━━━━━\u001b[0m\u001b[37m\u001b[0m \u001b[1m0s\u001b[0m 203ms/step - AUC: 1.0000 - accuracy: 1.0000 - loss: 0.1430 - val_AUC: 1.0000 - val_accuracy: 1.0000 - val_loss: 0.1200\n",
      "Epoch 70/100\n",
      "\u001b[1m1/1\u001b[0m \u001b[32m━━━━━━━━━━━━━━━━━━━━\u001b[0m\u001b[37m\u001b[0m \u001b[1m0s\u001b[0m 289ms/step - AUC: 1.0000 - accuracy: 1.0000 - loss: 0.1837 - val_AUC: 1.0000 - val_accuracy: 1.0000 - val_loss: 0.1170\n",
      "Epoch 71/100\n",
      "\u001b[1m1/1\u001b[0m \u001b[32m━━━━━━━━━━━━━━━━━━━━\u001b[0m\u001b[37m\u001b[0m \u001b[1m0s\u001b[0m 233ms/step - AUC: 1.0000 - accuracy: 1.0000 - loss: 0.1777 - val_AUC: 1.0000 - val_accuracy: 1.0000 - val_loss: 0.1140\n",
      "Epoch 72/100\n",
      "\u001b[1m1/1\u001b[0m \u001b[32m━━━━━━━━━━━━━━━━━━━━\u001b[0m\u001b[37m\u001b[0m \u001b[1m0s\u001b[0m 199ms/step - AUC: 1.0000 - accuracy: 1.0000 - loss: 0.1396 - val_AUC: 1.0000 - val_accuracy: 1.0000 - val_loss: 0.1111\n",
      "Epoch 73/100\n",
      "\u001b[1m1/1\u001b[0m \u001b[32m━━━━━━━━━━━━━━━━━━━━\u001b[0m\u001b[37m\u001b[0m \u001b[1m0s\u001b[0m 194ms/step - AUC: 1.0000 - accuracy: 1.0000 - loss: 0.1667 - val_AUC: 1.0000 - val_accuracy: 1.0000 - val_loss: 0.1083\n",
      "Epoch 74/100\n",
      "\u001b[1m1/1\u001b[0m \u001b[32m━━━━━━━━━━━━━━━━━━━━\u001b[0m\u001b[37m\u001b[0m \u001b[1m0s\u001b[0m 415ms/step - AUC: 1.0000 - accuracy: 1.0000 - loss: 0.1370 - val_AUC: 1.0000 - val_accuracy: 1.0000 - val_loss: 0.1056\n",
      "Epoch 75/100\n",
      "\u001b[1m1/1\u001b[0m \u001b[32m━━━━━━━━━━━━━━━━━━━━\u001b[0m\u001b[37m\u001b[0m \u001b[1m1s\u001b[0m 1s/step - AUC: 1.0000 - accuracy: 1.0000 - loss: 0.1667 - val_AUC: 1.0000 - val_accuracy: 1.0000 - val_loss: 0.1029\n",
      "Epoch 76/100\n",
      "\u001b[1m1/1\u001b[0m \u001b[32m━━━━━━━━━━━━━━━━━━━━\u001b[0m\u001b[37m\u001b[0m \u001b[1m1s\u001b[0m 699ms/step - AUC: 1.0000 - accuracy: 1.0000 - loss: 0.1978 - val_AUC: 1.0000 - val_accuracy: 1.0000 - val_loss: 0.1003\n",
      "Epoch 77/100\n",
      "\u001b[1m1/1\u001b[0m \u001b[32m━━━━━━━━━━━━━━━━━━━━\u001b[0m\u001b[37m\u001b[0m \u001b[1m0s\u001b[0m 282ms/step - AUC: 1.0000 - accuracy: 1.0000 - loss: 0.1323 - val_AUC: 1.0000 - val_accuracy: 1.0000 - val_loss: 0.0978\n",
      "Epoch 78/100\n",
      "\u001b[1m1/1\u001b[0m \u001b[32m━━━━━━━━━━━━━━━━━━━━\u001b[0m\u001b[37m\u001b[0m \u001b[1m0s\u001b[0m 185ms/step - AUC: 1.0000 - accuracy: 1.0000 - loss: 0.1475 - val_AUC: 1.0000 - val_accuracy: 1.0000 - val_loss: 0.0952\n",
      "Epoch 79/100\n",
      "\u001b[1m1/1\u001b[0m \u001b[32m━━━━━━━━━━━━━━━━━━━━\u001b[0m\u001b[37m\u001b[0m \u001b[1m0s\u001b[0m 311ms/step - AUC: 1.0000 - accuracy: 1.0000 - loss: 0.1482 - val_AUC: 1.0000 - val_accuracy: 1.0000 - val_loss: 0.0927\n",
      "Epoch 80/100\n",
      "\u001b[1m1/1\u001b[0m \u001b[32m━━━━━━━━━━━━━━━━━━━━\u001b[0m\u001b[37m\u001b[0m \u001b[1m0s\u001b[0m 332ms/step - AUC: 1.0000 - accuracy: 1.0000 - loss: 0.1636 - val_AUC: 1.0000 - val_accuracy: 1.0000 - val_loss: 0.0903\n",
      "Epoch 81/100\n",
      "\u001b[1m1/1\u001b[0m \u001b[32m━━━━━━━━━━━━━━━━━━━━\u001b[0m\u001b[37m\u001b[0m \u001b[1m0s\u001b[0m 344ms/step - AUC: 1.0000 - accuracy: 1.0000 - loss: 0.1398 - val_AUC: 1.0000 - val_accuracy: 1.0000 - val_loss: 0.0879\n",
      "Epoch 82/100\n",
      "\u001b[1m1/1\u001b[0m \u001b[32m━━━━━━━━━━━━━━━━━━━━\u001b[0m\u001b[37m\u001b[0m \u001b[1m0s\u001b[0m 350ms/step - AUC: 1.0000 - accuracy: 1.0000 - loss: 0.1665 - val_AUC: 1.0000 - val_accuracy: 1.0000 - val_loss: 0.0856\n",
      "Epoch 83/100\n",
      "\u001b[1m1/1\u001b[0m \u001b[32m━━━━━━━━━━━━━━━━━━━━\u001b[0m\u001b[37m\u001b[0m \u001b[1m0s\u001b[0m 200ms/step - AUC: 1.0000 - accuracy: 1.0000 - loss: 0.1274 - val_AUC: 1.0000 - val_accuracy: 1.0000 - val_loss: 0.0833\n",
      "Epoch 84/100\n",
      "\u001b[1m1/1\u001b[0m \u001b[32m━━━━━━━━━━━━━━━━━━━━\u001b[0m\u001b[37m\u001b[0m \u001b[1m0s\u001b[0m 345ms/step - AUC: 1.0000 - accuracy: 1.0000 - loss: 0.1059 - val_AUC: 1.0000 - val_accuracy: 1.0000 - val_loss: 0.0811\n",
      "Epoch 85/100\n",
      "\u001b[1m1/1\u001b[0m \u001b[32m━━━━━━━━━━━━━━━━━━━━\u001b[0m\u001b[37m\u001b[0m \u001b[1m0s\u001b[0m 373ms/step - AUC: 1.0000 - accuracy: 1.0000 - loss: 0.1509 - val_AUC: 1.0000 - val_accuracy: 1.0000 - val_loss: 0.0790\n",
      "Epoch 86/100\n",
      "\u001b[1m1/1\u001b[0m \u001b[32m━━━━━━━━━━━━━━━━━━━━\u001b[0m\u001b[37m\u001b[0m \u001b[1m0s\u001b[0m 192ms/step - AUC: 1.0000 - accuracy: 1.0000 - loss: 0.1323 - val_AUC: 1.0000 - val_accuracy: 1.0000 - val_loss: 0.0769\n",
      "Epoch 87/100\n",
      "\u001b[1m1/1\u001b[0m \u001b[32m━━━━━━━━━━━━━━━━━━━━\u001b[0m\u001b[37m\u001b[0m \u001b[1m0s\u001b[0m 164ms/step - AUC: 1.0000 - accuracy: 1.0000 - loss: 0.1007 - val_AUC: 1.0000 - val_accuracy: 1.0000 - val_loss: 0.0749\n",
      "Epoch 88/100\n",
      "\u001b[1m1/1\u001b[0m \u001b[32m━━━━━━━━━━━━━━━━━━━━\u001b[0m\u001b[37m\u001b[0m \u001b[1m0s\u001b[0m 329ms/step - AUC: 1.0000 - accuracy: 1.0000 - loss: 0.1155 - val_AUC: 1.0000 - val_accuracy: 1.0000 - val_loss: 0.0730\n",
      "Epoch 89/100\n",
      "\u001b[1m1/1\u001b[0m \u001b[32m━━━━━━━━━━━━━━━━━━━━\u001b[0m\u001b[37m\u001b[0m \u001b[1m0s\u001b[0m 213ms/step - AUC: 1.0000 - accuracy: 1.0000 - loss: 0.1128 - val_AUC: 1.0000 - val_accuracy: 1.0000 - val_loss: 0.0711\n",
      "Epoch 90/100\n",
      "\u001b[1m1/1\u001b[0m \u001b[32m━━━━━━━━━━━━━━━━━━━━\u001b[0m\u001b[37m\u001b[0m \u001b[1m0s\u001b[0m 322ms/step - AUC: 1.0000 - accuracy: 1.0000 - loss: 0.1294 - val_AUC: 1.0000 - val_accuracy: 1.0000 - val_loss: 0.0692\n",
      "Epoch 91/100\n",
      "\u001b[1m1/1\u001b[0m \u001b[32m━━━━━━━━━━━━━━━━━━━━\u001b[0m\u001b[37m\u001b[0m \u001b[1m0s\u001b[0m 239ms/step - AUC: 1.0000 - accuracy: 1.0000 - loss: 0.1078 - val_AUC: 1.0000 - val_accuracy: 1.0000 - val_loss: 0.0675\n",
      "Epoch 92/100\n",
      "\u001b[1m1/1\u001b[0m \u001b[32m━━━━━━━━━━━━━━━━━━━━\u001b[0m\u001b[37m\u001b[0m \u001b[1m0s\u001b[0m 296ms/step - AUC: 1.0000 - accuracy: 1.0000 - loss: 0.1712 - val_AUC: 1.0000 - val_accuracy: 1.0000 - val_loss: 0.0658\n",
      "Epoch 93/100\n",
      "\u001b[1m1/1\u001b[0m \u001b[32m━━━━━━━━━━━━━━━━━━━━\u001b[0m\u001b[37m\u001b[0m \u001b[1m1s\u001b[0m 510ms/step - AUC: 1.0000 - accuracy: 1.0000 - loss: 0.0843 - val_AUC: 1.0000 - val_accuracy: 1.0000 - val_loss: 0.0641\n",
      "Epoch 94/100\n",
      "\u001b[1m1/1\u001b[0m \u001b[32m━━━━━━━━━━━━━━━━━━━━\u001b[0m\u001b[37m\u001b[0m \u001b[1m0s\u001b[0m 179ms/step - AUC: 1.0000 - accuracy: 1.0000 - loss: 0.1137 - val_AUC: 1.0000 - val_accuracy: 1.0000 - val_loss: 0.0626\n",
      "Epoch 95/100\n",
      "\u001b[1m1/1\u001b[0m \u001b[32m━━━━━━━━━━━━━━━━━━━━\u001b[0m\u001b[37m\u001b[0m \u001b[1m0s\u001b[0m 206ms/step - AUC: 1.0000 - accuracy: 1.0000 - loss: 0.1309 - val_AUC: 1.0000 - val_accuracy: 1.0000 - val_loss: 0.0610\n",
      "Epoch 96/100\n",
      "\u001b[1m1/1\u001b[0m \u001b[32m━━━━━━━━━━━━━━━━━━━━\u001b[0m\u001b[37m\u001b[0m \u001b[1m0s\u001b[0m 197ms/step - AUC: 1.0000 - accuracy: 1.0000 - loss: 0.1389 - val_AUC: 1.0000 - val_accuracy: 1.0000 - val_loss: 0.0595\n",
      "Epoch 97/100\n",
      "\u001b[1m1/1\u001b[0m \u001b[32m━━━━━━━━━━━━━━━━━━━━\u001b[0m\u001b[37m\u001b[0m \u001b[1m0s\u001b[0m 259ms/step - AUC: 1.0000 - accuracy: 1.0000 - loss: 0.1063 - val_AUC: 1.0000 - val_accuracy: 1.0000 - val_loss: 0.0580\n",
      "Epoch 98/100\n",
      "\u001b[1m1/1\u001b[0m \u001b[32m━━━━━━━━━━━━━━━━━━━━\u001b[0m\u001b[37m\u001b[0m \u001b[1m0s\u001b[0m 222ms/step - AUC: 1.0000 - accuracy: 1.0000 - loss: 0.1202 - val_AUC: 1.0000 - val_accuracy: 1.0000 - val_loss: 0.0566\n",
      "Epoch 99/100\n",
      "\u001b[1m1/1\u001b[0m \u001b[32m━━━━━━━━━━━━━━━━━━━━\u001b[0m\u001b[37m\u001b[0m \u001b[1m0s\u001b[0m 268ms/step - AUC: 1.0000 - accuracy: 1.0000 - loss: 0.0766 - val_AUC: 1.0000 - val_accuracy: 1.0000 - val_loss: 0.0552\n",
      "Epoch 100/100\n",
      "\u001b[1m1/1\u001b[0m \u001b[32m━━━━━━━━━━━━━━━━━━━━\u001b[0m\u001b[37m\u001b[0m \u001b[1m0s\u001b[0m 214ms/step - AUC: 1.0000 - accuracy: 1.0000 - loss: 0.0814 - val_AUC: 1.0000 - val_accuracy: 1.0000 - val_loss: 0.0539\n"
     ]
    }
   ],
   "source": [
    "es = keras.callbacks.EarlyStopping(\n",
    "    monitor=\"val_loss\", patience=10, restore_best_weights=True\n",
    ")\n",
    "\n",
    "history = model.fit(\n",
    "    X_train, y_train,\n",
    "    validation_data=(X_val, y_val),\n",
    "    epochs=100, batch_size=32,\n",
    "    callbacks=[es], verbose=1\n",
    ")"
   ]
  },
  {
   "cell_type": "code",
   "execution_count": 18,
   "id": "827953b9",
   "metadata": {},
   "outputs": [
    {
     "name": "stdout",
     "output_type": "stream",
     "text": [
      "Test Acc: 1.0 AUC: 1.0\n",
      "\u001b[1m1/1\u001b[0m \u001b[32m━━━━━━━━━━━━━━━━━━━━\u001b[0m\u001b[37m\u001b[0m \u001b[1m0s\u001b[0m 236ms/step\n",
      "[[1 0]\n",
      " [0 1]]\n",
      "              precision    recall  f1-score   support\n",
      "\n",
      "           0      1.000     1.000     1.000         1\n",
      "           1      1.000     1.000     1.000         1\n",
      "\n",
      "    accuracy                          1.000         2\n",
      "   macro avg      1.000     1.000     1.000         2\n",
      "weighted avg      1.000     1.000     1.000         2\n",
      "\n"
     ]
    }
   ],
   "source": [
    "from sklearn.metrics import classification_report, confusion_matrix\n",
    "\n",
    "loss, acc, auc = model.evaluate(X_test, y_test, verbose=0)\n",
    "print(\"Test Acc:\", acc, \"AUC:\", auc)\n",
    "\n",
    "y_proba = model.predict(X_test).ravel()\n",
    "y_pred = (y_proba >= 0.5).astype(int)\n",
    "\n",
    "print(confusion_matrix(y_test, y_pred))\n",
    "print(classification_report(y_test, y_pred, digits=3))"
   ]
  },
  {
   "cell_type": "code",
   "execution_count": 20,
   "id": "2120bc8d",
   "metadata": {},
   "outputs": [
    {
     "data": {
      "image/png": "[encoded data removed]",
      "text/plain": [
       "<Figure size 640x480 with 1 Axes>"
      ]
     },
     "metadata": {},
     "output_type": "display_data"
    }
   ],
   "source": [
    "import matplotlib.pyplot as plt\n",
    "\n",
    "plt.plot(history.history[\"loss\"], label=\"Train Loss\")\n",
    "plt.plot(history.history[\"val_loss\"], label=\"Val Loss\")\n",
    "plt.xlabel(\"Epoch\"); plt.ylabel(\"Loss\"); plt.legend()\n",
    "plt.title(\"Learning Curve\")\n",
    "plt.tight_layout(); plt.savefig(\"learning_curve.png\", dpi=120)"
   ]
  }
 ],
 "metadata": {
  "kernelspec": {
   "display_name": ".venv",
   "language": "python",
   "name": "python3"
  },
  "language_info": {
   "codemirror_mode": {
    "name": "ipython",
    "version": 3
   },
   "file_extension": ".py",
   "mimetype": "text/x-python",
   "name": "python",
   "nbconvert_exporter": "python",
   "pygments_lexer": "ipython3",
   "version": "3.10.11"
  }
 },
 "nbformat": 4,
 "nbformat_minor": 5
}
